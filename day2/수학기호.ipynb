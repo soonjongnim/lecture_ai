{
 "cells": [
  {
   "cell_type": "markdown",
   "metadata": {},
   "source": [
    "$$ \\alpha = \\beta $$"
   ]
  },
  {
   "cell_type": "markdown",
   "metadata": {},
   "source": [
    "$$ \n",
    "\\alpha \\\\\n",
    "\\beta \\\\\n",
    "\\gamma \\\\\n",
    "\\delta $$"
   ]
  },
  {
   "cell_type": "markdown",
   "metadata": {},
   "source": [
    "그리스문자 \n",
    "- 알파, $$ \\alpha, A, a, \\mathbb{A}, \\\\\n",
    "gamma: \\Gamma, \\gamma, \\\\\n",
    "delta: \\Delta, \\delta, \\\\\n",
    "epsilon: \\Epsilon, \\epsilon, \\\\\n",
    "$$\n"
   ]
  },
  {
   "cell_type": "markdown",
   "metadata": {},
   "source": [
    "집합의 합은 $\\sum_{i}으로 표시"
   ]
  },
  {
   "cell_type": "markdown",
   "metadata": {},
   "source": [
    "\"\"\"$$  \\Delta, \\delta $$\"\"\""
   ]
  },
  {
   "cell_type": "markdown",
   "metadata": {},
   "source": [
    "$$ \\text{한 글 } $$"
   ]
  },
  {
   "cell_type": "markdown",
   "metadata": {},
   "source": [
    "묶음!\n",
    "\n",
    "$$\n",
    "\\int_{a}^bk kf(x)dx \\rightarrow \\text{지수는 가능하면 {} 묶어주세요}\n",
    "\n",
    "\\int_{a}^{bk} f(x)dx \\rightarrow \\text{지수는 가능하면 {} 묶어주세요}\n",
    "$$"
   ]
  },
  {
   "cell_type": "markdown",
   "metadata": {},
   "source": [
    "도트!!!\n",
    "\n",
    "```\n",
    "\\cdot 도트하나\n",
    "\\cdots 도트3개...\n",
    "\\vdots 수직 3개\n",
    "\\ddots 사선\n",
    "```"
   ]
  },
  {
   "cell_type": "markdown",
   "metadata": {},
   "source": [
    "정렬!\n",
    "```\n",
    "$$\n",
    "\\begin{aligned}\n",
    "\n",
    "&=\n",
    "=&\n",
    "\n",
    "\\end{aligned}\n",
    "$$\n",
    "```"
   ]
  },
  {
   "cell_type": "markdown",
   "metadata": {},
   "source": [
    "$$ \\begin{aligned}\n",
    "a^x + y = a^x a^y \\\\\n",
    "&= a^x a^y \\\\\n",
    "&= a^x a^y \\\\\n",
    "$$"
   ]
  },
  {
   "cell_type": "markdown",
   "metadata": {},
   "source": [
    "### 2.1 수열과 집합의 합과 곱\n",
    "\n",
    "1픽셀 : 8bit (256), 3원색\n",
    "\n",
    "\n"
   ]
  },
  {
   "cell_type": "markdown",
   "metadata": {},
   "source": [
    "수열\n",
    "$$\n",
    "x_{1}, x_{2}, x_{3}, \\cdots, x_{N}\n",
    "$$"
   ]
  },
  {
   "cell_type": "markdown",
   "metadata": {},
   "source": [
    "집합\n",
    "$$\n",
    "{1,2,3,\\cdots,N} \\\\\n",
    "{x_{1}, x_{2}, x_{3}, \\cdots, x_{n} }\n",
    "$$"
   ]
  },
  {
   "cell_type": "markdown",
   "metadata": {},
   "source": [
    "$$\n",
    "x_1:N \\qquad \\text{1.2.7}\\\\\n",
    "\\{x_i\\}N \\qquad \\text{1.2.8}\n",
    "$$"
   ]
  },
  {
   "cell_type": "markdown",
   "metadata": {},
   "source": [
    "$$\n",
    "x \\in R \\\\\n",
    "(x_1, x_2) \\in R X R\n",
    "$$"
   ]
  },
  {
   "cell_type": "markdown",
   "metadata": {},
   "source": [
    "$$\\begin{aligned}\n",
    "\\sum_{i=0}^{N} x_{i} = x_{1} + x_{2} + \\cdots + x_{n} \\qquad \\text{(1.2.12)}\n",
    "\\end{aligned}\n",
    "$$"
   ]
  },
  {
   "cell_type": "markdown",
   "metadata": {},
   "source": [
    "$$\\begin{aligned}\n",
    "\\sum_{i=0}^{N} x_{i} = x_{1} + x_{2} + \\cdots + x_{n} \\qquad \\text{(1.2.12)}\n",
    "\\end{aligned}\n",
    "$$"
   ]
  },
  {
   "cell_type": "markdown",
   "metadata": {},
   "source": [
    "합과 곱의 중첩!!!\n",
    "\n",
    "$$\\begin{aligned}\n",
    "\\sum_{i=1}^{2} \\sum_{j=1}^{3}(i+j) &= \\sum_{i=1}^{2} \\left( \\sum_{j=1}^{3}(i+j) \\right) \\\\\n",
    "&= \\sum_{i=1}^{2}((i+1)+(i+2)+(i+3)) \\\\\n",
    "&= ((1+1)+(1+2)+(1+3)) + ((2+1)+(2+2)+(2+3))\n",
    "\\end{aligned}\n",
    "$$"
   ]
  },
  {
   "cell_type": "markdown",
   "metadata": {},
   "source": [
    "$$\\begin{aligned}\n",
    "\\prod_{i=1}^{3} \\prod_{j=1}^{2}(m+2n) &= \\prod_{i=1}^{3} \\left( \\prod_{j=1}^{2}(m+2n) \\right) \\\\\n",
    "&= \\prod_{i=1}^{3}((m+ 2\\cdot1)\\cdot(m+ 2\\cdot2)) \\\\\n",
    "&= ((1+ 2\\cdot1)+(1+ 2\\cdot2)) \\cdot ((2+2\\cdot1)+(2+2\\cdot2)) \\cdot ((3+2\\cdot1)+(3+2\\cdot2))\n",
    "\\end{aligned}\n",
    "$$"
   ]
  },
  {
   "cell_type": "markdown",
   "metadata": {},
   "source": [
    "$$\n",
    "\\sum_{i=1}^{3}\\sum_{j=1}^{3}\\alpha_{i}\\alpha_{j}y_{i}y_{j}x_{i}x_{j}\n",
    "$$"
   ]
  },
  {
   "cell_type": "markdown",
   "metadata": {},
   "source": [
    "$$\n",
    "\\sum_{k=1}^{3}\\sum_{i=1}^{3}\\sigma_{i}^{2}(v_{i}w_{k})^2\n",
    "$$"
   ]
  },
  {
   "cell_type": "markdown",
   "metadata": {},
   "source": [
    "$$\n",
    "\\prod_{i=1}^{4}\\prod_{k=1}^{4}\\theta_{k}^{x_{i,k}}\n",
    "$$"
   ]
  },
  {
   "cell_type": "markdown",
   "metadata": {},
   "source": [
    "$$\\begin{aligned}\n",
    "&\\prod_{i=1}^{4}\\sum_{k=1}^{2} \\\\\n",
    "&\\pi{1}x_{1}\\mu_{1}\n",
    "\\end{aligned}\n",
    "$$"
   ]
  },
  {
   "cell_type": "markdown",
   "metadata": {},
   "source": [
    "$$\\begin{aligned}\n",
    "&\\prod_{i=1}^{4}\\sum_{k=1}^{2} \\\\\n",
    "&\\pi{1}x_{1}\\mu_{1}\n",
    "\\end{aligned}\n",
    "$$"
   ]
  },
  {
   "cell_type": "code",
   "execution_count": null,
   "metadata": {},
   "outputs": [],
   "source": []
  }
 ],
 "metadata": {
  "kernelspec": {
   "display_name": "Python 3",
   "language": "python",
   "name": "python3"
  },
  "language_info": {
   "codemirror_mode": {
    "name": "ipython",
    "version": 3
   },
   "file_extension": ".py",
   "mimetype": "text/x-python",
   "name": "python",
   "nbconvert_exporter": "python",
   "pygments_lexer": "ipython3",
   "version": "3.8.3"
  }
 },
 "nbformat": 4,
 "nbformat_minor": 4
}
